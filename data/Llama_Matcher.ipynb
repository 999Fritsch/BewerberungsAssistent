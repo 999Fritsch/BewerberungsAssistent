{
 "cells": [
  {
   "cell_type": "code",
   "execution_count": null,
   "outputs": [],
   "source": [
    "# terminal install ollama\n",
    "# terminal ollama pull llama3.2\n",
    "# pip install ollama\n",
    "\n",
    "# ollama run llama3.2:1b\n",
    "# TODO: !Terminal befehle"
   ],
   "metadata": {
    "collapsed": false
   }
  },
  {
   "cell_type": "code",
   "execution_count": 4,
   "outputs": [],
   "source": [
    "from ollama import chat\n",
    "from ollama import ChatResponse"
   ],
   "metadata": {
    "collapsed": false,
    "ExecuteTime": {
     "end_time": "2024-11-26T10:17:24.073451Z",
     "start_time": "2024-11-26T10:17:24.070186Z"
    }
   }
  },
  {
   "cell_type": "code",
   "execution_count": 5,
   "outputs": [
    {
     "name": "stdout",
     "output_type": "stream",
     "text": [
      "The sky appears blue because of a phenomenon called scattering, which occurs when sunlight interacts with tiny molecules of gases in the Earth's atmosphere. Here's a simplified explanation:\n",
      "\n",
      "1. **Sunlight**: When sunlight enters the Earth's atmosphere, it consists of a broad spectrum of colors, including all the colors of the visible light (red, orange, yellow, green, blue, indigo, and violet).\n",
      "2. **Scattering**: The shorter (blue) wavelengths of light are scattered more than the longer (red) wavelengths by the tiny molecules of gases in the atmosphere, such as nitrogen and oxygen. This is known as Rayleigh scattering.\n",
      "3. **Blue light dominance**: As a result of this scattering, the blue light is distributed throughout the atmosphere, making it more visible from our vantage point on the ground.\n",
      "4. **Angle of view**: When we look up at the sky, the blue light has to travel through a longer distance and encounter more molecules to reach our eyes. This scattering effect makes the blue color more pronounced.\n",
      "\n",
      "Other factors can influence the apparent color of the sky, such as:\n",
      "\n",
      "* **Dust and pollution**: These can scatter light in different ways, making the sky appear more gray or hazy.\n",
      "* **Water vapor**: High levels of water vapor in the atmosphere can cause the sky to appear more white or clear.\n",
      "* **Sun position**: The angle at which sunlight enters the Earth's atmosphere affects the amount of scattering that occurs.\n",
      "\n",
      "So, in summary, the sky appears blue because shorter wavelengths (like blue light) are scattered more than longer wavelengths by the tiny molecules in the atmosphere.\n",
      "The sky appears blue because of a phenomenon called scattering, which occurs when sunlight interacts with tiny molecules of gases in the Earth's atmosphere. Here's a simplified explanation:\n",
      "\n",
      "1. **Sunlight**: When sunlight enters the Earth's atmosphere, it consists of a broad spectrum of colors, including all the colors of the visible light (red, orange, yellow, green, blue, indigo, and violet).\n",
      "2. **Scattering**: The shorter (blue) wavelengths of light are scattered more than the longer (red) wavelengths by the tiny molecules of gases in the atmosphere, such as nitrogen and oxygen. This is known as Rayleigh scattering.\n",
      "3. **Blue light dominance**: As a result of this scattering, the blue light is distributed throughout the atmosphere, making it more visible from our vantage point on the ground.\n",
      "4. **Angle of view**: When we look up at the sky, the blue light has to travel through a longer distance and encounter more molecules to reach our eyes. This scattering effect makes the blue color more pronounced.\n",
      "\n",
      "Other factors can influence the apparent color of the sky, such as:\n",
      "\n",
      "* **Dust and pollution**: These can scatter light in different ways, making the sky appear more gray or hazy.\n",
      "* **Water vapor**: High levels of water vapor in the atmosphere can cause the sky to appear more white or clear.\n",
      "* **Sun position**: The angle at which sunlight enters the Earth's atmosphere affects the amount of scattering that occurs.\n",
      "\n",
      "So, in summary, the sky appears blue because shorter wavelengths (like blue light) are scattered more than longer wavelengths by the tiny molecules in the atmosphere.\n"
     ]
    }
   ],
   "source": [
    "response: ChatResponse = chat(model='llama3.2', messages=[\n",
    "  {\n",
    "    'role': 'user',\n",
    "    'content': 'Was ist sql?',\n",
    "  },\n",
    "])\n",
    "print(response['message']['content'])\n",
    "# or access fields directly from the response object\n",
    "print(response.message.content)"
   ],
   "metadata": {
    "collapsed": false,
    "ExecuteTime": {
     "end_time": "2024-11-26T10:17:44.490880Z",
     "start_time": "2024-11-26T10:17:28.838568Z"
    }
   }
  },
  {
   "cell_type": "code",
   "execution_count": null,
   "outputs": [],
   "source": [],
   "metadata": {
    "collapsed": false
   }
  }
 ],
 "metadata": {
  "kernelspec": {
   "display_name": "Python 3",
   "language": "python",
   "name": "python3"
  },
  "language_info": {
   "codemirror_mode": {
    "name": "ipython",
    "version": 2
   },
   "file_extension": ".py",
   "mimetype": "text/x-python",
   "name": "python",
   "nbconvert_exporter": "python",
   "pygments_lexer": "ipython2",
   "version": "2.7.6"
  }
 },
 "nbformat": 4,
 "nbformat_minor": 0
}
