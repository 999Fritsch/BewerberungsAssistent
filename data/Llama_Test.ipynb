{
 "cells": [
  {
   "cell_type": "markdown",
   "source": [
    "Um Antworten zu ändern:\n",
    "-> gelieferte Fragen und Antworten jeweils embeden?\n",
    "ollama.embed(model='llama3.2', input=['The sky is blue because of rayleigh scattering', 'Grass is green because of chlorophyll'])"
   ],
   "metadata": {
    "collapsed": false
   }
  },
  {
   "cell_type": "markdown",
   "source": [
    "terminal install ollama\n",
    "terminal ollama pull llama3.2\n",
    "pip install ollama\n",
    "\n",
    "ollama run llama3.2:1b"
   ],
   "metadata": {
    "collapsed": false
   }
  },
  {
   "cell_type": "code",
   "execution_count": 4,
   "outputs": [],
   "source": [
    "from ollama import chat\n",
    "from ollama import ChatResponse"
   ],
   "metadata": {
    "collapsed": false,
    "ExecuteTime": {
     "end_time": "2024-11-26T10:17:24.073451Z",
     "start_time": "2024-11-26T10:17:24.070186Z"
    }
   }
  },
  {
   "cell_type": "code",
   "execution_count": 12,
   "outputs": [
    {
     "name": "stdout",
     "output_type": "stream",
     "text": [
      "**Was ist GitHub?**\n",
      "\n",
      "GitHub ist eine beliebte Plattform für das Versionierung und das gemeinsame Arbeiten an Softwareprojekten. Es wurde im Jahr 2008 von Dustin Moskovitz, Jeff Walker, Scott Chaset, Tom Preston-Werner und Chris Wanstrath gegründet.\n",
      "\n",
      "**Funktionen von GitHub**\n",
      "\n",
      "GitHub bietet eine Vielzahl von Funktionen für Entwickler und Teams, darunter:\n",
      "\n",
      "1. **Versionierung**: GitHub ermöglicht die Verwaltung von Versionen von Code und anderen Dateien. Dies bedeutet, dass Änderungen an einem Code basierenden Projekt leicht nachverfolgt werden können.\n",
      "2. **Gemeinsames Arbeiten**: GitHub ermöglicht es, Projekte mit anderen Entwicklern zu teilen und gemeinsam an ihnen zu arbeiten. Dies kann mithilfe von Branches und Pull-Requests erfolgen.\n",
      "3. **Collaboration**: GitHub bietet Funktionen wie die Möglichkeit, Code in verschiedenen Branches zu erstellen und zu bearbeiten, sowie die Möglichkeit, Änderungen an dem Code zu überprüfen, bevor sie in den Hauptcode integriert werden.\n",
      "4. **Integrität und Sicherheit**: GitHub bietet eine sichere Plattform für das Aufbewahren von Code und anderen Dateien. Es bietet auch Funktionen wie die Möglichkeit, Code mit Open-Source-Lizenzen zu teilen.\n",
      "\n",
      "**Benutzergruppen**\n",
      "\n",
      "GitHub wird von einer Vielzahl von Benutzern genutzt, darunter:\n",
      "\n",
      "1. **Entwickler**: Entwickler nutzen GitHub, um ihre Projekte zu verwalten und gemeinsam an ihnen zu arbeiten.\n",
      "2. **Teams**: Unternehmen nutzen GitHub, um ihre Entwickler-Teams zu organisieren und Projekte zu verwalten.\n",
      "3. **Freie Software-Entwickler**: Freie Software-Entwickler nutzen GitHub, um ihre Projekte zu teilen und Unterstützung zu finden.\n",
      "\n",
      "**Fazit**\n",
      "\n",
      "GitHub ist eine wichtige Plattform für das Versionierung und gemeinsame Arbeiten an Softwareprojekten. Es bietet eine Vielzahl von Funktionen für Entwickler und Teams und wird von einer Vielzahl von Benutzern genutzt.\n"
     ]
    }
   ],
   "source": [
    "response: ChatResponse = chat(model='llama3.2', messages=[\n",
    "  {\n",
    "    'role': 'user',\n",
    "    'content': 'Was ist Github?',\n",
    "  },\n",
    "])\n",
    "\n",
    "print(response.message.content)"
   ],
   "metadata": {
    "collapsed": false,
    "ExecuteTime": {
     "end_time": "2024-11-26T12:48:23.069369Z",
     "start_time": "2024-11-26T12:48:09.335793Z"
    }
   }
  },
  {
   "cell_type": "code",
   "execution_count": null,
   "outputs": [],
   "source": [],
   "metadata": {
    "collapsed": false
   }
  }
 ],
 "metadata": {
  "kernelspec": {
   "display_name": "Python 3",
   "language": "python",
   "name": "python3"
  },
  "language_info": {
   "codemirror_mode": {
    "name": "ipython",
    "version": 2
   },
   "file_extension": ".py",
   "mimetype": "text/x-python",
   "name": "python",
   "nbconvert_exporter": "python",
   "pygments_lexer": "ipython2",
   "version": "2.7.6"
  }
 },
 "nbformat": 4,
 "nbformat_minor": 0
}
