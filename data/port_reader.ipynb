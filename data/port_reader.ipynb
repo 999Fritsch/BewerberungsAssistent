{
 "cells": [
  {
   "cell_type": "code",
   "execution_count": 11,
   "metadata": {
    "collapsed": true,
    "ExecuteTime": {
     "end_time": "2024-11-26T12:40:38.713814Z",
     "start_time": "2024-11-26T12:40:38.709272Z"
    }
   },
   "outputs": [],
   "source": [
    "# Program to read the entire file using read() function\n"
   ]
  },
  {
   "cell_type": "code",
   "execution_count": 43,
   "outputs": [
    {
     "data": {
      "text/plain": "'SQL ist eine Datenbanksprache.'"
     },
     "execution_count": 43,
     "metadata": {},
     "output_type": "execute_result"
    }
   ],
   "source": [
    "# Zeilen einlesen\n",
    "\n",
    "file = open(\"test_port.txt\", \"r\")\n",
    "examples = 2\n",
    "\n",
    "\n",
    "\n",
    "i = 0\n",
    "\n",
    "questions = []\n",
    "answers = []\n",
    "solutions = []\n",
    "\n",
    "while 0 != examples:\n",
    "\n",
    "    examples -= 1\n",
    "\n",
    "    questions.append(file.readline().strip('\\n'))\n",
    "    answers.append(file.readline().strip('\\n'))\n",
    "    solutions.append(file.readline().strip('\\n'))\n",
    "\n",
    "file.close()\n",
    "answers[0]"
   ],
   "metadata": {
    "collapsed": false,
    "ExecuteTime": {
     "end_time": "2024-11-26T13:09:27.685791Z",
     "start_time": "2024-11-26T13:09:27.682944Z"
    }
   }
  },
  {
   "cell_type": "code",
   "execution_count": 44,
   "outputs": [
    {
     "data": {
      "text/plain": "'SQL (Structured Query Language) ist eine standardisierte Sprache für die Verwaltung und Manipulation von Datenbanken. Sie ermöglicht es Benutzern, Daten zu erstellen, zu bearbeiten und auszuleiten, sowie Datenbankstruktur und -inhalt zu überwachen. SQL wird häufig in relationalen Datenbanken wie MySQL, PostgreSQL und Microsoft SQL Server verwendet.'"
     },
     "execution_count": 44,
     "metadata": {},
     "output_type": "execute_result"
    }
   ],
   "source": [
    "solutions[0]"
   ],
   "metadata": {
    "collapsed": false,
    "ExecuteTime": {
     "end_time": "2024-11-26T13:09:44.047167Z",
     "start_time": "2024-11-26T13:09:44.041395Z"
    }
   }
  },
  {
   "cell_type": "code",
   "execution_count": 40,
   "outputs": [],
   "source": [
    "from ollama import chat\n",
    "from ollama import ChatResponse"
   ],
   "metadata": {
    "collapsed": false,
    "ExecuteTime": {
     "end_time": "2024-11-26T13:04:23.446708Z",
     "start_time": "2024-11-26T13:04:23.294980Z"
    }
   }
  },
  {
   "cell_type": "code",
   "execution_count": 102,
   "outputs": [
    {
     "name": "stdout",
     "output_type": "stream",
     "text": [
      "40 %\n"
     ]
    }
   ],
   "source": [
    "response: ChatResponse = chat(model='llama3.2', messages=[\n",
    "      {\n",
    "    'role': 'system',\n",
    "    'content': f'Du bekommst eine Frage und eine Bewerberantwort und bewertest wie gut die Frage beantwortet wurde. Du Antwortest stur nur mit einer Prozentzahl. 0 % komplett Falsch bis 100 % alles Richtig'},\n",
    "  {\n",
    "    'role': 'user',\n",
    "    'content': f'Antwort \"{answers[0]}\"; Frage \"{questions[0]}\"'}\n",
    "])\n",
    "print(response['message']['content'])"
   ],
   "metadata": {
    "collapsed": false,
    "ExecuteTime": {
     "end_time": "2024-11-26T14:58:55.802457Z",
     "start_time": "2024-11-26T14:58:55.629370Z"
    }
   }
  }
 ],
 "metadata": {
  "kernelspec": {
   "display_name": "Python 3",
   "language": "python",
   "name": "python3"
  },
  "language_info": {
   "codemirror_mode": {
    "name": "ipython",
    "version": 2
   },
   "file_extension": ".py",
   "mimetype": "text/x-python",
   "name": "python",
   "nbconvert_exporter": "python",
   "pygments_lexer": "ipython2",
   "version": "2.7.6"
  }
 },
 "nbformat": 4,
 "nbformat_minor": 0
}
