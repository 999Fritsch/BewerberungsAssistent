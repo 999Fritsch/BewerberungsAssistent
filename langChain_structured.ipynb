{
 "cells": [
  {
   "cell_type": "code",
   "execution_count": 24,
   "metadata": {
    "collapsed": true,
    "ExecuteTime": {
     "end_time": "2024-11-27T13:57:05.080890Z",
     "start_time": "2024-11-27T13:57:04.451096Z"
    }
   },
   "outputs": [
    {
     "name": "stdout",
     "output_type": "stream",
     "text": [
      "Note: you may need to restart the kernel to use updated packages.\n"
     ]
    }
   ],
   "source": [
    "%pip install -qU langchain_ollama"
   ]
  },
  {
   "cell_type": "code",
   "execution_count": 25,
   "outputs": [
    {
     "data": {
      "text/plain": "'Neil Armstrong was the first person to set foot on the moon, but the mission that brought him there was crewed by astronauts John Young and Eugene Cernan, who were part of the Apollo 17 mission in December 1972.'"
     },
     "execution_count": 25,
     "metadata": {},
     "output_type": "execute_result"
    }
   ],
   "source": [
    "from langchain_ollama import OllamaLLM\n",
    "\n",
    "llm = OllamaLLM(model=\"llama3.2:1b\")\n",
    "\n",
    "llm.invoke(\"The first man on the moon was ...\")"
   ],
   "metadata": {
    "collapsed": false,
    "ExecuteTime": {
     "end_time": "2024-11-27T13:57:05.732375Z",
     "start_time": "2024-11-27T13:57:05.096932Z"
    }
   }
  },
  {
   "cell_type": "code",
   "execution_count": 26,
   "outputs": [],
   "source": [
    "from langchain_ollama import ChatOllama\n",
    "#from langchain_core.messages import AIMessage\n",
    "import csv"
   ],
   "metadata": {
    "collapsed": false,
    "ExecuteTime": {
     "end_time": "2024-11-27T13:57:05.735388Z",
     "start_time": "2024-11-27T13:57:05.732635Z"
    }
   }
  },
  {
   "cell_type": "code",
   "execution_count": 27,
   "outputs": [
    {
     "data": {
      "text/plain": "['Was ist sql?', 'Was ist Github?']"
     },
     "execution_count": 27,
     "metadata": {},
     "output_type": "execute_result"
    }
   ],
   "source": [
    "questions = []\n",
    "answers = []\n",
    "\n",
    "with open('fragen_antworten.csv', newline='', encoding='utf-8') as csvfile:\n",
    "    reader = csv.DictReader(csvfile)\n",
    "    for row in reader:\n",
    "        questions.append(row['Frage'])\n",
    "        answers.append(row['Antwort'])\n",
    "\n",
    "questions"
   ],
   "metadata": {
    "collapsed": false,
    "ExecuteTime": {
     "end_time": "2024-11-27T13:57:05.742798Z",
     "start_time": "2024-11-27T13:57:05.737673Z"
    }
   }
  },
  {
   "cell_type": "code",
   "execution_count": 28,
   "outputs": [
    {
     "data": {
      "text/plain": "'Die Antwort lautet: SQL (Structured Query Language) ist eine standardisierte Sprache für die Verwaltung und Manipulation von Datenbanken.\\n\\n**Bewertung:** 90%\\n\\nDie Frage beantwortet den Hauptinhalt der Definition von SQL, nämlich seine Verwendung zur Datenbankverwaltung. Die Antwort ist jedoch nicht vollständig und fehlt einige wichtige Details wie die häufige Anwendungsbereiche (z.B. Erstellung, Bearbeitung und Ausgabe von Daten) und die spezifischen Funktionen der verschiedenen Datenbanksysteme (z.B. MySQL, PostgreSQL).'"
     },
     "execution_count": 28,
     "metadata": {},
     "output_type": "execute_result"
    }
   ],
   "source": [
    "'''\n",
    "    temperature=0,\n",
    "    model_path=local_model,\n",
    "    n_ctx=10000,\n",
    "    n_gpu_layers=0,\n",
    "    n_batch=300,  # Adjust based on your system resources\n",
    "    max_tokens=512,\n",
    "    n_threads=multiprocessing.cpu_count() - 1,\n",
    "    repeat_penalty=1.5\n",
    "    top_p=0.5,\n",
    "    verbose=False,\n",
    "    seed=42\n",
    "    '''\n",
    "\n",
    "llm = ChatOllama(\n",
    "    model=\"llama3.2:1b\",\n",
    "    temperature=0,\n",
    "\n",
    "    # other params...\n",
    ")\n",
    "\n",
    "messages = [\n",
    "    (\n",
    "        \"system\",\n",
    "        \"Du bekommst eine Frage und eine Bewerberantwort und bewertest wie gut die Frage beantwortet wurde. Du Antwortest stur mit einer Prozentzahl. 0 % komplett Falsch bis 100 % alles Richtig\",\n",
    "    ),\n",
    "    (\"human\",\n",
    "     f'Antwort \"{answers[0]}\"; Frage \"{questions[0]}\"'),\n",
    "]\n",
    "ai_msg = llm.invoke(messages)\n",
    "ai_content = ai_msg.content\n",
    "ai_content"
   ],
   "metadata": {
    "collapsed": false,
    "ExecuteTime": {
     "end_time": "2024-11-27T13:57:07.346463Z",
     "start_time": "2024-11-27T13:57:05.745506Z"
    }
   }
  },
  {
   "cell_type": "code",
   "execution_count": 51,
   "outputs": [
    {
     "name": "stdout",
     "output_type": "stream",
     "text": [
      "9\n"
     ]
    }
   ],
   "source": [
    "from typing import Optional\n",
    "from pydantic import BaseModel, Field\n",
    "\n",
    "# Pydantic\n",
    "# For structured Output\n",
    "class Matchscore(BaseModel):\n",
    "\n",
    "    #question: str = Field(description=\"The question\")\n",
    "    #answer: str = Field(description=\"The answer given to the question\")\n",
    "    rating: Optional[int] = Field(\n",
    "        default=None, description=f'Bewerte die Antwort auf die Frage von 1 bis 10;'\n",
    "    )\n",
    "    explanation: str = Field(description=\"Explain your rating\")\n",
    "\n",
    "\n",
    "llm_struc = ChatOllama(\n",
    "    model=\"llama3.2:1b\",\n",
    "    temperature=0,\n",
    "\n",
    "    # other params...\n",
    ")\n",
    "\n",
    "\n",
    "structured_llm_struc = llm_struc.with_structured_output(Matchscore)\n",
    "\n",
    "\n",
    "messages = [\n",
    "    (\n",
    "        \"system\",\n",
    "        \"Du bekommst eine Frage und eine Bewerberantwort und bewertest wie gut die Frage beantwortet wurde. Du Antwortest stur mit einer Prozentzahl. 0 % komplett Falsch bis 100 % alles Richtig\",\n",
    "    ),\n",
    "    (\"human\",\n",
    "     f'Antwort \"{answers[0]}\"; Frage \"{questions[0]}\"'),\n",
    "]\n",
    "\n",
    "\n",
    "#invoke = structured_llm_struc.invoke(messages)\n",
    "invoke = structured_llm_struc.invoke(f'Hier ist eine Berwerberantwort auf eine Prüfungsfrage. Bewerte die Antwort auf die Frage. Antwort: \"{answers[1]}\"; Frage \"{questions[0]}\"')\n",
    "print(invoke.rating)"
   ],
   "metadata": {
    "collapsed": false,
    "ExecuteTime": {
     "end_time": "2024-11-27T16:05:24.273852Z",
     "start_time": "2024-11-27T16:05:23.579221Z"
    }
   }
  },
  {
   "cell_type": "code",
   "execution_count": 35,
   "outputs": [
    {
     "name": "stdout",
     "output_type": "stream",
     "text": [
      "Beantwortet die Antwort \"GitHub ist eine beliebte Plattform für das Versionierung und das gemeinsame Arbeiten an Softwareprojekten. Es wurde im Jahr 2008 von Dustin Moskovitz, Jeff Walker, Scott Chaset, Tom Preston-Werner und Chris Wanstrath gegründet.\" die Frage \"Was ist sql?\"\n"
     ]
    }
   ],
   "source": [
    "print(f'Beantwortet die Antwort \"{answers[1]}\" die Frage \"{questions[0]}\"')"
   ],
   "metadata": {
    "collapsed": false,
    "ExecuteTime": {
     "end_time": "2024-11-27T14:00:52.626376Z",
     "start_time": "2024-11-27T14:00:52.622185Z"
    }
   }
  },
  {
   "cell_type": "code",
   "execution_count": 30,
   "outputs": [],
   "source": [],
   "metadata": {
    "collapsed": false,
    "ExecuteTime": {
     "end_time": "2024-11-27T13:57:07.847145Z",
     "start_time": "2024-11-27T13:57:07.844636Z"
    }
   }
  },
  {
   "cell_type": "code",
   "execution_count": 30,
   "outputs": [],
   "source": [],
   "metadata": {
    "collapsed": false,
    "ExecuteTime": {
     "end_time": "2024-11-27T13:57:07.849752Z",
     "start_time": "2024-11-27T13:57:07.847712Z"
    }
   }
  }
 ],
 "metadata": {
  "kernelspec": {
   "display_name": "Python 3",
   "language": "python",
   "name": "python3"
  },
  "language_info": {
   "codemirror_mode": {
    "name": "ipython",
    "version": 2
   },
   "file_extension": ".py",
   "mimetype": "text/x-python",
   "name": "python",
   "nbconvert_exporter": "python",
   "pygments_lexer": "ipython2",
   "version": "2.7.6"
  }
 },
 "nbformat": 4,
 "nbformat_minor": 0
}
